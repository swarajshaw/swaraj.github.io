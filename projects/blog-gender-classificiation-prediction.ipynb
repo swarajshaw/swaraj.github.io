{
 "cells": [
  {
   "cell_type": "code",
   "execution_count": 2,
   "metadata": {},
   "outputs": [],
   "source": [
    "# %pip install pandas numpy scikit-learn matplotlib seaborn"
   ]
  },
  {
   "cell_type": "code",
   "execution_count": 3,
   "metadata": {},
   "outputs": [],
   "source": [
    "# %pip install --upgrade pip"
   ]
  },
  {
   "cell_type": "code",
   "execution_count": 4,
   "metadata": {},
   "outputs": [],
   "source": [
    "# %pip install openpyxl\n",
    "# %pip install nltk"
   ]
  },
  {
   "cell_type": "code",
   "execution_count": 5,
   "metadata": {},
   "outputs": [],
   "source": [
    "# %pip install tensorflow\n",
    "# ! pip install --upgrade tensorflow-hub\n",
    "# ! pip install tensorflow-text\n",
    "# ! pip install pytorch-pretrained-bert"
   ]
  },
  {
   "cell_type": "code",
   "execution_count": 6,
   "metadata": {},
   "outputs": [],
   "source": [
    "# Import Libs\n",
    "import pandas as pd\n",
    "import numpy as np\n",
    "from sklearn import model_selection\n",
    "from sklearn.linear_model import LogisticRegression\n",
    "import warnings\n",
    "from nltk.tokenize import word_tokenize\n",
    "import re\n",
    "\n",
    "#tensorflow modules\n",
    "import tensorflow as tf\n",
    "import tensorflow_hub as hub\n",
    "import tensorflow_text as text"
   ]
  },
  {
   "cell_type": "code",
   "execution_count": 7,
   "metadata": {},
   "outputs": [
    {
     "name": "stderr",
     "output_type": "stream",
     "text": [
      "C:\\Users\\shaws\\AppData\\Local\\Packages\\PythonSoftwareFoundation.Python.3.9_qbz5n2kfra8p0\\LocalCache\\local-packages\\Python39\\site-packages\\openpyxl\\styles\\stylesheet.py:226: UserWarning: Workbook contains no default style, apply openpyxl's default\n",
      "  warn(\"Workbook contains no default style, apply openpyxl's default\")\n"
     ]
    },
    {
     "data": {
      "text/html": [
       "<div>\n",
       "<style scoped>\n",
       "    .dataframe tbody tr th:only-of-type {\n",
       "        vertical-align: middle;\n",
       "    }\n",
       "\n",
       "    .dataframe tbody tr th {\n",
       "        vertical-align: top;\n",
       "    }\n",
       "\n",
       "    .dataframe thead th {\n",
       "        text-align: right;\n",
       "    }\n",
       "</style>\n",
       "<table border=\"1\" class=\"dataframe\">\n",
       "  <thead>\n",
       "    <tr style=\"text-align: right;\">\n",
       "      <th></th>\n",
       "      <th>BLOG</th>\n",
       "      <th>GENDER</th>\n",
       "    </tr>\n",
       "  </thead>\n",
       "  <tbody>\n",
       "    <tr>\n",
       "      <th>0</th>\n",
       "      <td>Beyond Getting There: What Travel Days Show U...</td>\n",
       "      <td>F</td>\n",
       "    </tr>\n",
       "    <tr>\n",
       "      <th>1</th>\n",
       "      <td>I remember so much about the island; the large...</td>\n",
       "      <td>F</td>\n",
       "    </tr>\n",
       "    <tr>\n",
       "      <th>2</th>\n",
       "      <td>I have had asthma and allergies my entire life...</td>\n",
       "      <td>M</td>\n",
       "    </tr>\n",
       "    <tr>\n",
       "      <th>3</th>\n",
       "      <td>The last few days have been an emotional rolle...</td>\n",
       "      <td>M</td>\n",
       "    </tr>\n",
       "    <tr>\n",
       "      <th>4</th>\n",
       "      <td>If you lined up all the teachers and staff in ...</td>\n",
       "      <td>F</td>\n",
       "    </tr>\n",
       "  </tbody>\n",
       "</table>\n",
       "</div>"
      ],
      "text/plain": [
       "                                                BLOG GENDER\n",
       "0   Beyond Getting There: What Travel Days Show U...      F\n",
       "1  I remember so much about the island; the large...      F\n",
       "2  I have had asthma and allergies my entire life...      M\n",
       "3  The last few days have been an emotional rolle...      M\n",
       "4  If you lined up all the teachers and staff in ...      F"
      ]
     },
     "execution_count": 7,
     "metadata": {},
     "output_type": "execute_result"
    }
   ],
   "source": [
    "#Import Dataset\n",
    "blog_gender_dataset = pd.read_excel(r'E:\\swaraj-ireland\\DBS\\Natural Language Processing\\BLOG GENDER BALANCED.xlsx')\n",
    "blog_gender_dataset.head()"
   ]
  },
  {
   "cell_type": "code",
   "execution_count": 8,
   "metadata": {},
   "outputs": [],
   "source": [
    "#Tokenization\n",
    "text_tokenization = blog_gender_dataset.copy()"
   ]
  },
  {
   "cell_type": "code",
   "execution_count": 9,
   "metadata": {},
   "outputs": [
    {
     "data": {
      "text/plain": [
       "' Beyond Getting There: What Travel Days Show Us\\n\\nToday’s guest post is by Gillian at One-Giant-Step.com sums up for me that imperceptible change that happens when you travel… you start appreciating things you never thought you would.  In that process, maybe you even learn a new way to see the world.\\n\\n\\n\\nWho is it that said “It’s not about the destination, it’s about the journey”? Nine months of full time traveling has proven to me that this is absolutely true.\\n\\nBefore leaving on this trip the thought of an 8 or 10 hour bus trip was pretty daunting. The longest trips we’d taken were on planes, where they serve drinks and meals and we can pass the time watching movies. Eight hours on a bus, without the same amenities sounded like torture but we jumped in right from the start with a 22 hour ride from Lima to Cusco that, while not the most comfortable ride, got us into the swing of things pretty quickly.\\n\\nOnce we got a routine down…snacks packed, books prepared, podcasts ready…and had determined our favorite seats…on the drivers side, no window bar blocking the view, no children nearby…bus journeys became easy and now travel days are some of my favorite days.\\n\\n\\n\\nThey are a chance for quiet reflection, to leave behind what is past, to think about the place we are leaving and start thinking about how we will remember our experiences there…that great evening we had at the market, the interesting people we met at the cooking course, the horrible bed at the guesthouse. They are a chance to look forward, to anticipate what is coming, and to plan ahead…where will we go next, how will we get there…where will we stay. They are a chance to stare out the window and think about where we’ve been and where we’re going, about past successes and future plans…when else is there a chance to do nothing but quietly think?\\n\\nTravel days let us learn a little bit about the people and culture of the places we visit. Sitting in an airport, bus station or train depot gives me a great vantage point to see how people relate to each other. Who is traveling with who? Where might they be going, and why? Are they traveling for work, or holiday, or to visit family? Who are they meeting…or leaving behind?\\n\\nIn a small northern Turkish town we witnessed a heart-wrenching goodbye between two young men. Turkish men are very close - it is normal to see them holding hands and embracing each other – and this couple seemed heartbroken to be leaving each other. One boy sat in the seat ahead of us, perhaps on his way to school or military service, his friend stood outside the bus. They spent their remaining time together with hands pressed against the glass, trying to talk through the window and texting each other on their phones. I don’t understand Turkish but is was clear they were going to miss each other terribly.\\n\\nI like the act of traveling, the moving forward, the getting somewhere. I love watching the scenery slowly change from rolling hills to flat plains, along high twisty mountain roads or perfectly straight desert highways – there is always lots to see. One of my favorite bus rides is still that first 22 hour ride between Lima and Cusco. I will always remember dawn breaking over the altiplano, the smoke rising from the llama herder shacks and the sun glinting off the frost that covered the ground.\\n\\nThere are plenty of stories to be told about dodgy bus trips, or awful plane rides, or the never-ending tuk tuk/minivan/bus/boat combination…what would we do without those stories? But there are also plenty of journeys that are made perfectly lovely…the lemon spritz on Turkish buses, the meals served on Argentinean buses, or the comfy bed on the overnight Thailand train.\\n\\nTravel days are an integral part of travel. They are filled with possibility and anticipation of what lies ahead. I like the optimism they have, the sense that fun and adventure lie ahead. No matter how long or short the journey they will always be my favorites.'"
      ]
     },
     "execution_count": 9,
     "metadata": {},
     "output_type": "execute_result"
    }
   ],
   "source": [
    "text = text_tokenization['BLOG'][0]\n",
    "text"
   ]
  },
  {
   "cell_type": "code",
   "execution_count": 10,
   "metadata": {},
   "outputs": [
    {
     "name": "stdout",
     "output_type": "stream",
     "text": [
      " Beyond Getting There What Travel Days Show Us\n",
      "\n",
      "Today’s guest post is by Gillian at One-Giant-Stepcom sums up for me that imperceptible change that happens when you travel… you start appreciating things you never thought you would  In that process maybe you even learn a new way to see the world\n",
      "\n",
      "\n",
      "\n",
      "Who is it that said “It’s not about the destination it’s about the journey” Nine months of full time traveling has proven to me that this is absolutely true\n",
      "\n",
      "Before leaving on this trip the thought of an 8 or 10 hour bus trip was pretty daunting The longest trips we’d taken were on planes where they serve drinks and meals and we can pass the time watching movies Eight hours on a bus without the same amenities sounded like torture but we jumped in right from the start with a 22 hour ride from Lima to Cusco that while not the most comfortable ride got us into the swing of things pretty quickly\n",
      "\n",
      "Once we got a routine down…snacks packed books prepared podcasts ready…and had determined our favorite seats…on the drivers side no window bar blocking the view no children nearby…bus journeys became easy and now travel days are some of my favorite days\n",
      "\n",
      "\n",
      "\n",
      "They are a chance for quiet reflection to leave behind what is past to think about the place we are leaving and start thinking about how we will remember our experiences there…that great evening we had at the market the interesting people we met at the cooking course the horrible bed at the guesthouse They are a chance to look forward to anticipate what is coming and to plan ahead…where will we go next how will we get there…where will we stay They are a chance to stare out the window and think about where we’ve been and where we’re going about past successes and future plans…when else is there a chance to do nothing but quietly think\n",
      "\n",
      "Travel days let us learn a little bit about the people and culture of the places we visit Sitting in an airport bus station or train depot gives me a great vantage point to see how people relate to each other Who is traveling with who Where might they be going and why Are they traveling for work or holiday or to visit family Who are they meeting…or leaving behind\n",
      "\n",
      "In a small northern Turkish town we witnessed a heart-wrenching goodbye between two young men Turkish men are very close - it is normal to see them holding hands and embracing each other – and this couple seemed heartbroken to be leaving each other One boy sat in the seat ahead of us perhaps on his way to school or military service his friend stood outside the bus They spent their remaining time together with hands pressed against the glass trying to talk through the window and texting each other on their phones I don’t understand Turkish but is was clear they were going to miss each other terribly\n",
      "\n",
      "I like the act of traveling the moving forward the getting somewhere I love watching the scenery slowly change from rolling hills to flat plains along high twisty mountain roads or perfectly straight desert highways – there is always lots to see One of my favorite bus rides is still that first 22 hour ride between Lima and Cusco I will always remember dawn breaking over the altiplano the smoke rising from the llama herder shacks and the sun glinting off the frost that covered the ground\n",
      "\n",
      "There are plenty of stories to be told about dodgy bus trips or awful plane rides or the never-ending tuk tuk/minivan/bus/boat combination…what would we do without those stories But there are also plenty of journeys that are made perfectly lovely…the lemon spritz on Turkish buses the meals served on Argentinean buses or the comfy bed on the overnight Thailand train\n",
      "\n",
      "Travel days are an integral part of travel They are filled with possibility and anticipation of what lies ahead I like the optimism they have the sense that fun and adventure lie ahead No matter how long or short the journey they will always be my favorites\n"
     ]
    }
   ],
   "source": [
    "#Noise Removal\n",
    "result = re.sub(r'[\\.\\?\\!\\,\\:\\;\\\"]', '', text)\n",
    "print(result)"
   ]
  },
  {
   "cell_type": "code",
   "execution_count": 11,
   "metadata": {},
   "outputs": [
    {
     "data": {
      "text/html": [
       "<div>\n",
       "<style scoped>\n",
       "    .dataframe tbody tr th:only-of-type {\n",
       "        vertical-align: middle;\n",
       "    }\n",
       "\n",
       "    .dataframe tbody tr th {\n",
       "        vertical-align: top;\n",
       "    }\n",
       "\n",
       "    .dataframe thead tr th {\n",
       "        text-align: left;\n",
       "    }\n",
       "\n",
       "    .dataframe thead tr:last-of-type th {\n",
       "        text-align: right;\n",
       "    }\n",
       "</style>\n",
       "<table border=\"1\" class=\"dataframe\">\n",
       "  <thead>\n",
       "    <tr>\n",
       "      <th></th>\n",
       "      <th colspan=\"4\" halign=\"left\">BLOG</th>\n",
       "    </tr>\n",
       "    <tr>\n",
       "      <th></th>\n",
       "      <th>count</th>\n",
       "      <th>unique</th>\n",
       "      <th>top</th>\n",
       "      <th>freq</th>\n",
       "    </tr>\n",
       "    <tr>\n",
       "      <th>GENDER</th>\n",
       "      <th></th>\n",
       "      <th></th>\n",
       "      <th></th>\n",
       "      <th></th>\n",
       "    </tr>\n",
       "  </thead>\n",
       "  <tbody>\n",
       "    <tr>\n",
       "      <th>F</th>\n",
       "      <td>1300</td>\n",
       "      <td>1294</td>\n",
       "      <td>W elcome to the February 28, 2010 edition of ...</td>\n",
       "      <td>2</td>\n",
       "    </tr>\n",
       "    <tr>\n",
       "      <th>M</th>\n",
       "      <td>1299</td>\n",
       "      <td>1294</td>\n",
       "      <td>Welcome to Grade 1: \"Alright students, what do...</td>\n",
       "      <td>3</td>\n",
       "    </tr>\n",
       "  </tbody>\n",
       "</table>\n",
       "</div>"
      ],
      "text/plain": [
       "        BLOG                                                               \n",
       "       count unique                                                top freq\n",
       "GENDER                                                                     \n",
       "F       1300   1294   W elcome to the February 28, 2010 edition of ...    2\n",
       "M       1299   1294  Welcome to Grade 1: \"Alright students, what do...    3"
      ]
     },
     "execution_count": 11,
     "metadata": {},
     "output_type": "execute_result"
    }
   ],
   "source": [
    "blog_gender_dataset.groupby('GENDER').describe()"
   ]
  },
  {
   "cell_type": "code",
   "execution_count": 12,
   "metadata": {},
   "outputs": [
    {
     "data": {
      "text/html": [
       "<div>\n",
       "<style scoped>\n",
       "    .dataframe tbody tr th:only-of-type {\n",
       "        vertical-align: middle;\n",
       "    }\n",
       "\n",
       "    .dataframe tbody tr th {\n",
       "        vertical-align: top;\n",
       "    }\n",
       "\n",
       "    .dataframe thead th {\n",
       "        text-align: right;\n",
       "    }\n",
       "</style>\n",
       "<table border=\"1\" class=\"dataframe\">\n",
       "  <thead>\n",
       "    <tr style=\"text-align: right;\">\n",
       "      <th></th>\n",
       "      <th>GENDER</th>\n",
       "    </tr>\n",
       "  </thead>\n",
       "  <tbody>\n",
       "    <tr>\n",
       "      <th>F</th>\n",
       "      <td>1300</td>\n",
       "    </tr>\n",
       "    <tr>\n",
       "      <th>M</th>\n",
       "      <td>1299</td>\n",
       "    </tr>\n",
       "  </tbody>\n",
       "</table>\n",
       "</div>"
      ],
      "text/plain": [
       "   GENDER\n",
       "F    1300\n",
       "M    1299"
      ]
     },
     "execution_count": 12,
     "metadata": {},
     "output_type": "execute_result"
    }
   ],
   "source": [
    "blog_gender_dataset.dropna(inplace=True)\n",
    "blog_gender_dataset['GENDER'].value_counts().to_frame()"
   ]
  },
  {
   "cell_type": "code",
   "execution_count": 13,
   "metadata": {},
   "outputs": [
    {
     "data": {
      "text/html": [
       "<div>\n",
       "<style scoped>\n",
       "    .dataframe tbody tr th:only-of-type {\n",
       "        vertical-align: middle;\n",
       "    }\n",
       "\n",
       "    .dataframe tbody tr th {\n",
       "        vertical-align: top;\n",
       "    }\n",
       "\n",
       "    .dataframe thead th {\n",
       "        text-align: right;\n",
       "    }\n",
       "</style>\n",
       "<table border=\"1\" class=\"dataframe\">\n",
       "  <thead>\n",
       "    <tr style=\"text-align: right;\">\n",
       "      <th></th>\n",
       "      <th>BLOG</th>\n",
       "      <th>GENDER</th>\n",
       "      <th>gender_encoded</th>\n",
       "    </tr>\n",
       "  </thead>\n",
       "  <tbody>\n",
       "    <tr>\n",
       "      <th>0</th>\n",
       "      <td>Beyond Getting There: What Travel Days Show U...</td>\n",
       "      <td>F</td>\n",
       "      <td>1</td>\n",
       "    </tr>\n",
       "    <tr>\n",
       "      <th>1</th>\n",
       "      <td>I remember so much about the island; the large...</td>\n",
       "      <td>F</td>\n",
       "      <td>1</td>\n",
       "    </tr>\n",
       "    <tr>\n",
       "      <th>2</th>\n",
       "      <td>I have had asthma and allergies my entire life...</td>\n",
       "      <td>M</td>\n",
       "      <td>0</td>\n",
       "    </tr>\n",
       "    <tr>\n",
       "      <th>3</th>\n",
       "      <td>The last few days have been an emotional rolle...</td>\n",
       "      <td>M</td>\n",
       "      <td>0</td>\n",
       "    </tr>\n",
       "    <tr>\n",
       "      <th>4</th>\n",
       "      <td>If you lined up all the teachers and staff in ...</td>\n",
       "      <td>F</td>\n",
       "      <td>1</td>\n",
       "    </tr>\n",
       "  </tbody>\n",
       "</table>\n",
       "</div>"
      ],
      "text/plain": [
       "                                                BLOG GENDER  gender_encoded\n",
       "0   Beyond Getting There: What Travel Days Show U...      F               1\n",
       "1  I remember so much about the island; the large...      F               1\n",
       "2  I have had asthma and allergies my entire life...      M               0\n",
       "3  The last few days have been an emotional rolle...      M               0\n",
       "4  If you lined up all the teachers and staff in ...      F               1"
      ]
     },
     "execution_count": 13,
     "metadata": {},
     "output_type": "execute_result"
    }
   ],
   "source": [
    "blog_gender_dataset['gender_encoded'] = blog_gender_dataset.GENDER.map({'M':0, 'F':1})\n",
    "blog_gender_dataset.head()"
   ]
  },
  {
   "cell_type": "code",
   "execution_count": 14,
   "metadata": {},
   "outputs": [],
   "source": [
    "X = blog_gender_dataset.BLOG\n",
    "y = blog_gender_dataset.gender_encoded"
   ]
  },
  {
   "cell_type": "code",
   "execution_count": 15,
   "metadata": {},
   "outputs": [
    {
     "name": "stdout",
     "output_type": "stream",
     "text": [
      "(2599,)\n",
      "(2599,)\n"
     ]
    }
   ],
   "source": [
    "print(X.shape)\n",
    "print(y.shape)"
   ]
  },
  {
   "cell_type": "code",
   "execution_count": 16,
   "metadata": {},
   "outputs": [
    {
     "name": "stdout",
     "output_type": "stream",
     "text": [
      "(2079,)\n",
      "(520,)\n",
      "(2079,)\n",
      "(520,)\n"
     ]
    }
   ],
   "source": [
    "from sklearn.model_selection import train_test_split\n",
    "X_train, X_test, y_train, y_test = train_test_split(X, y, test_size=0.2)\n",
    "print(X_train.shape)\n",
    "print(X_test.shape)\n",
    "print(y_train.shape)\n",
    "print(y_test.shape)"
   ]
  },
  {
   "cell_type": "code",
   "execution_count": 17,
   "metadata": {},
   "outputs": [
    {
     "data": {
      "text/plain": [
       "<2079x43350 sparse matrix of type '<class 'numpy.int64'>'\n",
       "\twith 414126 stored elements in Compressed Sparse Row format>"
      ]
     },
     "execution_count": 17,
     "metadata": {},
     "output_type": "execute_result"
    }
   ],
   "source": [
    "from sklearn.feature_extraction.text import CountVectorizer\n",
    "vect =  CountVectorizer()\n",
    "X_train = vect.fit_transform(X_train)\n",
    "X_train"
   ]
  },
  {
   "cell_type": "code",
   "execution_count": 18,
   "metadata": {},
   "outputs": [
    {
     "data": {
      "text/plain": [
       "<520x43350 sparse matrix of type '<class 'numpy.int64'>'\n",
       "\twith 99565 stored elements in Compressed Sparse Row format>"
      ]
     },
     "execution_count": 18,
     "metadata": {},
     "output_type": "execute_result"
    }
   ],
   "source": [
    "X_test= vect.transform(X_test)\n",
    "X_test"
   ]
  },
  {
   "cell_type": "code",
   "execution_count": 19,
   "metadata": {},
   "outputs": [],
   "source": [
    "from sklearn import metrics\n",
    "from sklearn.metrics import roc_curve, auc\n",
    "import matplotlib.pyplot as plt"
   ]
  },
  {
   "cell_type": "code",
   "execution_count": 20,
   "metadata": {},
   "outputs": [],
   "source": [
    "from sklearn.linear_model import LogisticRegression\n",
    "from sklearn.naive_bayes import MultinomialNB\n",
    "from sklearn.neighbors import KNeighborsClassifier\n",
    "from sklearn.tree import DecisionTreeClassifier\n",
    "from sklearn.ensemble import RandomForestClassifier\n",
    "from sklearn.svm import SVC\n",
    "from sklearn.model_selection import learning_curve, GridSearchCV\n",
    "from sklearn.linear_model import SGDClassifier\n",
    "import scikitplot as skplt\n",
    "from sklearn.metrics import classification_report, confusion_matrix\n",
    "from sklearn.neural_network import MLPClassifier"
   ]
  },
  {
   "cell_type": "code",
   "execution_count": 21,
   "metadata": {},
   "outputs": [
    {
     "name": "stdout",
     "output_type": "stream",
     "text": [
      "Accuracy 0.7115384615384616\n",
      "classification report               precision    recall  f1-score   support\n",
      "\n",
      "           0       0.71      0.74      0.72       266\n",
      "           1       0.71      0.69      0.70       254\n",
      "\n",
      "    accuracy                           0.71       520\n",
      "   macro avg       0.71      0.71      0.71       520\n",
      "weighted avg       0.71      0.71      0.71       520\n",
      "\n",
      "Recall 0.6850393700787402\n"
     ]
    },
    {
     "name": "stderr",
     "output_type": "stream",
     "text": [
      "C:\\Users\\shaws\\AppData\\Local\\Packages\\PythonSoftwareFoundation.Python.3.9_qbz5n2kfra8p0\\LocalCache\\local-packages\\Python39\\site-packages\\sklearn\\linear_model\\_logistic.py:444: ConvergenceWarning: lbfgs failed to converge (status=1):\n",
      "STOP: TOTAL NO. of ITERATIONS REACHED LIMIT.\n",
      "\n",
      "Increase the number of iterations (max_iter) or scale the data as shown in:\n",
      "    https://scikit-learn.org/stable/modules/preprocessing.html\n",
      "Please also refer to the documentation for alternative solver options:\n",
      "    https://scikit-learn.org/stable/modules/linear_model.html#logistic-regression\n",
      "  n_iter_i = _check_optimize_result(\n"
     ]
    }
   ],
   "source": [
    "#LogisticRegression\n",
    "lr = LogisticRegression()\n",
    "lr.fit(X_train, y_train)\n",
    "y_pred_class = lr.predict(X_test)\n",
    "print('Accuracy',metrics.accuracy_score(y_test, y_pred_class))\n",
    "print('classification report',metrics.classification_report(y_test, y_pred_class))\n",
    "print('Recall',metrics.recall_score(y_test,y_pred_class))"
   ]
  },
  {
   "cell_type": "code",
   "execution_count": 22,
   "metadata": {},
   "outputs": [
    {
     "name": "stdout",
     "output_type": "stream",
     "text": [
      "Accuracy 0.7346153846153847\n",
      "classification report               precision    recall  f1-score   support\n",
      "\n",
      "           0       0.77      0.69      0.73       266\n",
      "           1       0.71      0.78      0.74       254\n",
      "\n",
      "    accuracy                           0.73       520\n",
      "   macro avg       0.74      0.74      0.73       520\n",
      "weighted avg       0.74      0.73      0.73       520\n",
      "\n",
      "Recall 0.7834645669291339\n"
     ]
    }
   ],
   "source": [
    "#NaiveBayes\n",
    "nb = MultinomialNB()\n",
    "nb.fit(X_train, y_train)\n",
    "y_pred_class = nb.predict(X_test)\n",
    "print('Accuracy',metrics.accuracy_score(y_test, y_pred_class))\n",
    "print('classification report',metrics.classification_report(y_test, y_pred_class))\n",
    "print('Recall',metrics.recall_score(y_test,y_pred_class))"
   ]
  },
  {
   "cell_type": "code",
   "execution_count": 23,
   "metadata": {},
   "outputs": [
    {
     "name": "stdout",
     "output_type": "stream",
     "text": [
      "Accuracy 0.6807692307692308\n",
      "classification report               precision    recall  f1-score   support\n",
      "\n",
      "           0       0.72      0.62      0.67       266\n",
      "           1       0.65      0.74      0.69       254\n",
      "\n",
      "    accuracy                           0.68       520\n",
      "   macro avg       0.68      0.68      0.68       520\n",
      "weighted avg       0.68      0.68      0.68       520\n",
      "\n",
      "Recall 0.7401574803149606\n"
     ]
    }
   ],
   "source": [
    "#SVC\n",
    "svc = SVC()\n",
    "svc.fit(X_train, y_train)\n",
    "y_pred_class = svc.predict(X_test)\n",
    "print('Accuracy',metrics.accuracy_score(y_test, y_pred_class))\n",
    "print('classification report',metrics.classification_report(y_test, y_pred_class))\n",
    "print('Recall',metrics.recall_score(y_test,y_pred_class))"
   ]
  },
  {
   "cell_type": "code",
   "execution_count": 24,
   "metadata": {},
   "outputs": [
    {
     "name": "stdout",
     "output_type": "stream",
     "text": [
      "Accuracy 0.5788461538461539\n",
      "classification report               precision    recall  f1-score   support\n",
      "\n",
      "           0       0.60      0.55      0.57       266\n",
      "           1       0.56      0.61      0.59       254\n",
      "\n",
      "    accuracy                           0.58       520\n",
      "   macro avg       0.58      0.58      0.58       520\n",
      "weighted avg       0.58      0.58      0.58       520\n",
      "\n",
      "Recall 0.610236220472441\n"
     ]
    }
   ],
   "source": [
    "#KNN\n",
    "knn = KNeighborsClassifier()\n",
    "knn.fit(X_train, y_train)\n",
    "y_pred_class = knn.predict(X_test)\n",
    "print('Accuracy',metrics.accuracy_score(y_test, y_pred_class))\n",
    "print('classification report',metrics.classification_report(y_test, y_pred_class))\n",
    "print('Recall',metrics.recall_score(y_test,y_pred_class))"
   ]
  },
  {
   "cell_type": "code",
   "execution_count": 25,
   "metadata": {},
   "outputs": [
    {
     "name": "stdout",
     "output_type": "stream",
     "text": [
      "Accuracy 0.5884615384615385\n",
      "classification report               precision    recall  f1-score   support\n",
      "\n",
      "           0       0.60      0.60      0.60       266\n",
      "           1       0.58      0.58      0.58       254\n",
      "\n",
      "    accuracy                           0.59       520\n",
      "   macro avg       0.59      0.59      0.59       520\n",
      "weighted avg       0.59      0.59      0.59       520\n",
      "\n",
      "Recall 0.5787401574803149\n"
     ]
    }
   ],
   "source": [
    "# Decision Tree\n",
    "\n",
    "dt = DecisionTreeClassifier()\n",
    "dt.fit(X_train, y_train)\n",
    "y_pred_class = dt.predict(X_test)\n",
    "print('Accuracy',metrics.accuracy_score(y_test, y_pred_class))\n",
    "print('classification report',metrics.classification_report(y_test, y_pred_class))\n",
    "print('Recall',metrics.recall_score(y_test,y_pred_class))"
   ]
  },
  {
   "cell_type": "code",
   "execution_count": 26,
   "metadata": {},
   "outputs": [
    {
     "name": "stdout",
     "output_type": "stream",
     "text": [
      "Accuracy 0.7\n",
      "classification report               precision    recall  f1-score   support\n",
      "\n",
      "           0       0.73      0.66      0.69       266\n",
      "           1       0.68      0.74      0.71       254\n",
      "\n",
      "    accuracy                           0.70       520\n",
      "   macro avg       0.70      0.70      0.70       520\n",
      "weighted avg       0.70      0.70      0.70       520\n",
      "\n",
      "Recall 0.7401574803149606\n"
     ]
    }
   ],
   "source": [
    "# Random Forest\n",
    "rf = RandomForestClassifier()\n",
    "rf.fit(X_train, y_train)\n",
    "y_pred_class = rf.predict(X_test)\n",
    "print('Accuracy',metrics.accuracy_score(y_test, y_pred_class))\n",
    "print('classification report',metrics.classification_report(y_test, y_pred_class))\n",
    "print('Recall',metrics.recall_score(y_test,y_pred_class))"
   ]
  },
  {
   "cell_type": "code",
   "execution_count": 32,
   "metadata": {},
   "outputs": [
    {
     "name": "stdout",
     "output_type": "stream",
     "text": [
      "Accuracy 0.6961538461538461\n",
      "classification report               precision    recall  f1-score   support\n",
      "\n",
      "           0       0.70      0.71      0.71       266\n",
      "           1       0.69      0.68      0.69       254\n",
      "\n",
      "    accuracy                           0.70       520\n",
      "   macro avg       0.70      0.70      0.70       520\n",
      "weighted avg       0.70      0.70      0.70       520\n",
      "\n",
      "Recall 0.6771653543307087\n"
     ]
    }
   ],
   "source": [
    "# MLP Classifier\n",
    "mlp = MLPClassifier()\n",
    "mlp.fit(X_train, y_train)\n",
    "y_pred_class = mlp.predict(X_test)\n",
    "print('Accuracy',metrics.accuracy_score(y_test, y_pred_class))\n",
    "print('classification report',metrics.classification_report(y_test, y_pred_class))\n",
    "print('Recall',metrics.recall_score(y_test,y_pred_class))"
   ]
  },
  {
   "cell_type": "code",
   "execution_count": 33,
   "metadata": {},
   "outputs": [],
   "source": [
    "import pickle as pk"
   ]
  },
  {
   "cell_type": "code",
   "execution_count": 34,
   "metadata": {},
   "outputs": [],
   "source": [
    "pk.dump(mlp,open(\"./model/neuralnetmodel.pkl\",'wb'))"
   ]
  },
  {
   "cell_type": "code",
   "execution_count": 35,
   "metadata": {},
   "outputs": [],
   "source": [
    "pk.dump(nb,open(\"./model/naivebayesmodel.pkl\",'wb'))"
   ]
  },
  {
   "cell_type": "code",
   "execution_count": null,
   "metadata": {},
   "outputs": [],
   "source": [
    "# !pip install scikit-plot"
   ]
  },
  {
   "cell_type": "code",
   "execution_count": null,
   "metadata": {},
   "outputs": [],
   "source": [
    "# param_grid = {'C': [0.1, 1, 10],\n",
    "#                            'gamma': [1, 0.1, 0.01]}\n",
    "# Models = {\n",
    "#             \"model_lr\" : LogisticRegression(),\n",
    "#             \"model_multibinomial\": MultinomialNB(),\n",
    "#             \"model_svc\": SVC(),\n",
    "#             'model_decision_tree': DecisionTreeClassifier(),\n",
    "#             'model_random_forest': RandomForestClassifier(),\n",
    "#             'model_neural_net': MLPClassifier()}\n",
    "#             # 'model_SGD': SGDClassifier(loss=\"hinge\", penalty=\"l2\", max_iter=100)}"
   ]
  },
  {
   "cell_type": "code",
   "execution_count": null,
   "metadata": {},
   "outputs": [
    {
     "name": "stdout",
     "output_type": "stream",
     "text": [
      "=================================================================\n",
      "\n",
      "\n",
      "\tmodel_lr\tLogisticRegression()\n",
      "\n",
      "\n"
     ]
    },
    {
     "name": "stderr",
     "output_type": "stream",
     "text": [
      "C:\\Users\\shaws\\AppData\\Local\\Packages\\PythonSoftwareFoundation.Python.3.9_qbz5n2kfra8p0\\LocalCache\\local-packages\\Python39\\site-packages\\sklearn\\linear_model\\_logistic.py:444: ConvergenceWarning: lbfgs failed to converge (status=1):\n",
      "STOP: TOTAL NO. of ITERATIONS REACHED LIMIT.\n",
      "\n",
      "Increase the number of iterations (max_iter) or scale the data as shown in:\n",
      "    https://scikit-learn.org/stable/modules/preprocessing.html\n",
      "Please also refer to the documentation for alternative solver options:\n",
      "    https://scikit-learn.org/stable/modules/linear_model.html#logistic-regression\n",
      "  n_iter_i = _check_optimize_result(\n"
     ]
    },
    {
     "name": "stdout",
     "output_type": "stream",
     "text": [
      "              precision    recall  f1-score   support\n",
      "\n",
      "           0       0.76      0.63      0.69       252\n",
      "           1       0.70      0.81      0.75       268\n",
      "\n",
      "    accuracy                           0.72       520\n",
      "   macro avg       0.73      0.72      0.72       520\n",
      "weighted avg       0.73      0.72      0.72       520\n",
      "\n",
      "\n",
      "\n",
      "[[159  93]\n",
      " [ 51 217]]\n",
      "\n",
      "\n",
      "=================================================================\n",
      "\n",
      "\n",
      "\tmodel_multibinomial\tMultinomialNB()\n",
      "\n",
      "\n",
      "              precision    recall  f1-score   support\n",
      "\n",
      "           0       0.76      0.63      0.69       252\n",
      "           1       0.70      0.81      0.75       268\n",
      "\n",
      "    accuracy                           0.72       520\n",
      "   macro avg       0.73      0.72      0.72       520\n",
      "weighted avg       0.73      0.72      0.72       520\n",
      "\n",
      "\n",
      "\n",
      "[[159  93]\n",
      " [ 51 217]]\n",
      "\n",
      "\n",
      "=================================================================\n",
      "\n",
      "\n",
      "\tmodel_svc\tSVC()\n",
      "\n",
      "\n",
      "              precision    recall  f1-score   support\n",
      "\n",
      "           0       0.76      0.63      0.69       252\n",
      "           1       0.70      0.81      0.75       268\n",
      "\n",
      "    accuracy                           0.72       520\n",
      "   macro avg       0.73      0.72      0.72       520\n",
      "weighted avg       0.73      0.72      0.72       520\n",
      "\n",
      "\n",
      "\n",
      "[[159  93]\n",
      " [ 51 217]]\n",
      "\n",
      "\n",
      "=================================================================\n",
      "\n",
      "\n",
      "\tmodel_decision_tree\tDecisionTreeClassifier()\n",
      "\n",
      "\n",
      "              precision    recall  f1-score   support\n",
      "\n",
      "           0       0.76      0.63      0.69       252\n",
      "           1       0.70      0.81      0.75       268\n",
      "\n",
      "    accuracy                           0.72       520\n",
      "   macro avg       0.73      0.72      0.72       520\n",
      "weighted avg       0.73      0.72      0.72       520\n",
      "\n",
      "\n",
      "\n",
      "[[159  93]\n",
      " [ 51 217]]\n",
      "\n",
      "\n",
      "=================================================================\n",
      "\n",
      "\n",
      "\tmodel_random_forest\tRandomForestClassifier()\n",
      "\n",
      "\n",
      "              precision    recall  f1-score   support\n",
      "\n",
      "           0       0.76      0.63      0.69       252\n",
      "           1       0.70      0.81      0.75       268\n",
      "\n",
      "    accuracy                           0.72       520\n",
      "   macro avg       0.73      0.72      0.72       520\n",
      "weighted avg       0.73      0.72      0.72       520\n",
      "\n",
      "\n",
      "\n",
      "[[159  93]\n",
      " [ 51 217]]\n",
      "\n",
      "\n",
      "=================================================================\n",
      "\n",
      "\n",
      "\tmodel_neural_net\tMLPClassifier()\n",
      "\n",
      "\n"
     ]
    },
    {
     "name": "stderr",
     "output_type": "stream",
     "text": [
      "C:\\Users\\shaws\\AppData\\Local\\Packages\\PythonSoftwareFoundation.Python.3.9_qbz5n2kfra8p0\\LocalCache\\local-packages\\Python39\\site-packages\\sklearn\\neural_network\\_multilayer_perceptron.py:709: UserWarning: Training interrupted by user.\n",
      "  warnings.warn(\"Training interrupted by user.\")\n"
     ]
    },
    {
     "name": "stdout",
     "output_type": "stream",
     "text": [
      "              precision    recall  f1-score   support\n",
      "\n",
      "           0       0.76      0.63      0.69       252\n",
      "           1       0.70      0.81      0.75       268\n",
      "\n",
      "    accuracy                           0.72       520\n",
      "   macro avg       0.73      0.72      0.72       520\n",
      "weighted avg       0.73      0.72      0.72       520\n",
      "\n",
      "\n",
      "\n",
      "[[159  93]\n",
      " [ 51 217]]\n",
      "\n",
      "\n"
     ]
    },
    {
     "data": {
      "image/png": "[encoded data removed]",
      "text/plain": [
       "<Figure size 432x432 with 2 Axes>"
      ]
     },
     "metadata": {
      "needs_background": "light"
     },
     "output_type": "display_data"
    },
    {
     "data": {
      "image/png": "[encoded data removed]",
      "text/plain": [
       "<Figure size 432x432 with 2 Axes>"
      ]
     },
     "metadata": {
      "needs_background": "light"
     },
     "output_type": "display_data"
    },
    {
     "data": {
      "image/png": "[encoded data removed]",
      "text/plain": [
       "<Figure size 432x432 with 2 Axes>"
      ]
     },
     "metadata": {
      "needs_background": "light"
     },
     "output_type": "display_data"
    },
    {
     "data": {
      "image/png": "[encoded data removed]",
      "text/plain": [
       "<Figure size 432x432 with 2 Axes>"
      ]
     },
     "metadata": {
      "needs_background": "light"
     },
     "output_type": "display_data"
    },
    {
     "data": {
      "image/png": "[encoded data removed]",
      "text/plain": [
       "<Figure size 432x432 with 2 Axes>"
      ]
     },
     "metadata": {
      "needs_background": "light"
     },
     "output_type": "display_data"
    },
    {
     "data": {
      "image/png": "[encoded data removed]",
      "text/plain": [
       "<Figure size 432x432 with 2 Axes>"
      ]
     },
     "metadata": {
      "needs_background": "light"
     },
     "output_type": "display_data"
    }
   ],
   "source": [
    "# for counter, model in Models.items():\n",
    "#     print(\"=\"*65)\n",
    "#     print(\"\\n\")\n",
    "#     print(\"\\t{}\\t{}\".format(counter, model))\n",
    "#     print(\"\\n\")\n",
    "#     model.fit(X_train, y_train)\n",
    "#     pred = model.predict(X_test)\n",
    "#     report = classification_report(y_test, y_pred_class)\n",
    "#     print(report)\n",
    "#     print(\"\\n\")\n",
    "#     print(confusion_matrix(y_test, y_pred_class))\n",
    "#     print(\"\\n\")\n",
    "#     skplt.metrics.plot_confusion_matrix(y_test, y_pred_class, figsize=(6,6), title=\"Confusion Matrix {}\".format(counter))"
   ]
  },
  {
   "cell_type": "code",
   "execution_count": null,
   "metadata": {},
   "outputs": [],
   "source": []
  }
 ],
 "metadata": {
  "kernelspec": {
   "display_name": "Python 3.9.13 64-bit (windows store)",
   "language": "python",
   "name": "python3"
  },
  "language_info": {
   "codemirror_mode": {
    "name": "ipython",
    "version": 3
   },
   "file_extension": ".py",
   "mimetype": "text/x-python",
   "name": "python",
   "nbconvert_exporter": "python",
   "pygments_lexer": "ipython3",
   "version": "3.9.13"
  },
  "orig_nbformat": 4,
  "vscode": {
   "interpreter": {
    "hash": "5c66bd3bbe6fd35f086efa9b369c59eb2f49f9f01a2f53faa6fd9910f4f0bfdc"
   }
  }
 },
 "nbformat": 4,
 "nbformat_minor": 2
}
